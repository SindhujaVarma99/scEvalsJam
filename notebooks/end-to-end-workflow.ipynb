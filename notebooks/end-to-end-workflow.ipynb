{
 "cells": [
  {
   "cell_type": "markdown",
   "metadata": {
    "ExecuteTime": {
     "end_time": "2024-06-14T09:57:06.640482Z",
     "start_time": "2024-06-14T09:57:05.063970Z"
    }
   },
   "source": [
    "Import"
   ]
  },
  {
   "cell_type": "code",
   "metadata": {
    "ExecuteTime": {
     "end_time": "2024-06-14T09:25:35.053786Z",
     "start_time": "2024-06-14T09:25:35.050643Z"
    }
   },
   "source": [
    "from ..dataset import PerturbationDataset\n",
    "from ..models.scgen import scGenModel"
   ],
   "outputs": [
    {
     "name": "stdout",
     "output_type": "stream",
     "text": [
      "hello world\n"
     ]
    }
   ],
   "execution_count": 6
  },
  {
   "cell_type": "markdown",
   "metadata": {
    "ExecuteTime": {
     "end_time": "2024-06-14T09:44:52.587907Z",
     "start_time": "2024-06-14T09:44:52.529586Z"
    }
   },
   "source": [
    "Data processing"
   ]
  },
  {
   "cell_type": "code",
   "metadata": {
    "ExecuteTime": {
     "end_time": "2024-06-14T09:44:15.596972Z",
     "start_time": "2024-06-14T09:44:14.771461Z"
    }
   },
   "source": [],
   "outputs": [],
   "execution_count": 2
  },
  {
   "cell_type": "markdown",
   "metadata": {
    "ExecuteTime": {
     "end_time": "2024-06-13T16:31:52.976370Z",
     "start_time": "2024-06-13T16:31:52.960348Z"
    }
   },
   "source": [
    "Modelling"
   ]
  },
  {
   "cell_type": "code",
   "metadata": {
    "ExecuteTime": {
     "end_time": "2024-06-13T16:28:34.289277Z",
     "start_time": "2024-06-13T16:28:34.286379Z"
    }
   },
   "source": [
    "# standardize train and test data to the method specific format\n",
    "train_data = PerturbationDataset(train_adata)\n",
    "test_data = PerturbationDataset(test_adata)\n",
    "\n",
    "# define the models for benchmarking\n",
    "scgen_model = scGenModel()\n",
    "scgen_model.train(train_data) # default hyper-parameters\n",
    "scgen_model.save(\"path/to/save/model\")\n"
   ],
   "outputs": [
    {
     "name": "stdout",
     "output_type": "stream",
     "text": [
      "hello world\n"
     ]
    }
   ],
   "execution_count": 5
  },
  {
   "cell_type": "markdown",
   "metadata": {},
   "source": [
    "Prediction"
   ]
  },
  {
   "cell_type": "markdown",
   "metadata": {},
   "source": [
    "# load and predict the test data\n",
    "scgen_model.load(\"path/to/save/model\")\n",
    "predicted_data = scgen_model.predict(test_data)"
   ]
  },
  {
   "cell_type": "markdown",
   "metadata": {},
   "source": [
    "Evaluation"
   ]
  },
  {
   "cell_type": "markdown",
   "metadata": {},
   "source": []
  }
 ],
 "metadata": {
  "language_info": {
   "name": "python"
  },
  "kernelspec": {
   "name": "python3",
   "language": "python",
   "display_name": "Python 3 (ipykernel)"
  }
 },
 "nbformat": 4,
 "nbformat_minor": 2
}
