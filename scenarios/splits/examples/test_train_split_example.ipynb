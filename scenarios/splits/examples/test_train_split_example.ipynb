{
 "cells": [
  {
   "cell_type": "code",
   "execution_count": 3,
   "metadata": {},
   "outputs": [],
   "source": [
    "%load_ext autoreload\n",
    "%autoreload 2"
   ]
  },
  {
   "cell_type": "code",
   "execution_count": 4,
   "metadata": {},
   "outputs": [],
   "source": [
    "import numpy as np\n",
    "import pandas as pd\n",
    "import scanpy as sc \n",
    "import anndata as ann"
   ]
  },
  {
   "cell_type": "code",
   "execution_count": 5,
   "metadata": {},
   "outputs": [
    {
     "name": "stderr",
     "output_type": "stream",
     "text": [
      "/home/hmaan/Documents/vae-vault/.venv/lib/python3.10/site-packages/openpyxl/worksheet/_reader.py:329: UserWarning: Unknown extension is not supported and will be removed\n",
      "  warn(msg)\n"
     ]
    }
   ],
   "source": [
    "# Load an example anndata object and pseudo-format it into a perturbation dataset\n",
    "adata = sc.datasets.moignard15()"
   ]
  },
  {
   "cell_type": "code",
   "execution_count": 6,
   "metadata": {},
   "outputs": [],
   "source": [
    "# Create some dummy perturbation columns\n",
    "adata.obs['perturbation'] = np.random.choice(['A', 'B', 'C'], adata.shape[0])\n",
    "\n",
    "# Create some dummy cell-type columns\n",
    "adata.obs['cell_type'] = np.random.choice(['alpha', 'beta', 'gamma'], adata.shape[0])"
   ]
  },
  {
   "cell_type": "code",
   "execution_count": 7,
   "metadata": {},
   "outputs": [],
   "source": [
    "import os \n",
    "import sys\n",
    "\n",
    "sys.path.append(\"..\")\n",
    "sys.path.append(\"../../transforms/\")"
   ]
  },
  {
   "cell_type": "code",
   "execution_count": 8,
   "metadata": {},
   "outputs": [
    {
     "name": "stderr",
     "output_type": "stream",
     "text": [
      "/home/hmaan/scEvalsJam/scenarios/splits/examples/../../transforms/method_transform.py:35: SyntaxWarning: \"is\" with a literal. Did you mean \"==\"?\n",
      "  if method is \"scgen\":\n",
      "/home/hmaan/scEvalsJam/scenarios/splits/examples/../../transforms/method_transform.py:40: SyntaxWarning: \"is\" with a literal. Did you mean \"==\"?\n",
      "  elif method is \"cpa\":\n",
      "/home/hmaan/scEvalsJam/scenarios/splits/examples/../../transforms/method_transform.py:42: SyntaxWarning: \"is\" with a literal. Did you mean \"==\"?\n",
      "  elif method is \"chemcpa\":\n",
      "/home/hmaan/scEvalsJam/scenarios/splits/examples/../../transforms/method_transform.py:44: SyntaxWarning: \"is\" with a literal. Did you mean \"==\"?\n",
      "  elif method is \"scpregan\":\n",
      "/home/hmaan/scEvalsJam/scenarios/splits/examples/../../transforms/method_transform.py:46: SyntaxWarning: \"is\" with a literal. Did you mean \"==\"?\n",
      "  elif method is \"gears\":\n",
      "/home/hmaan/scEvalsJam/scenarios/splits/examples/../../transforms/method_transform.py:48: SyntaxWarning: \"is\" with a literal. Did you mean \"==\"?\n",
      "  elif method is \"cellot\":\n",
      "/home/hmaan/scEvalsJam/scenarios/splits/examples/../../transforms/method_transform.py:50: SyntaxWarning: \"is\" with a literal. Did you mean \"==\"?\n",
      "  elif method is \"graphvci\":\n",
      "/home/hmaan/scEvalsJam/scenarios/splits/examples/../../transforms/method_transform.py:52: SyntaxWarning: \"is\" with a literal. Did you mean \"==\"?\n",
      "  elif method is \"biolord\":\n",
      "/home/hmaan/scEvalsJam/scenarios/splits/examples/../../transforms/method_transform.py:54: SyntaxWarning: \"is\" with a literal. Did you mean \"==\"?\n",
      "  elif method is \"samsvae\":\n",
      "/home/hmaan/scEvalsJam/scenarios/splits/examples/../../transforms/method_transform.py:56: SyntaxWarning: \"is\" with a literal. Did you mean \"==\"?\n",
      "  elif method is \"scgpt\":\n",
      "/home/hmaan/scEvalsJam/scenarios/splits/examples/../../transforms/method_transform.py:58: SyntaxWarning: \"is\" with a literal. Did you mean \"==\"?\n",
      "  elif method is \"cellplm\":\n"
     ]
    }
   ],
   "source": [
    "from splits import Scenarios, Scenario1\n",
    "from method_transform import MethodTransform"
   ]
  },
  {
   "cell_type": "code",
   "execution_count": 12,
   "metadata": {},
   "outputs": [],
   "source": [
    "# Create a Method Transform object\n",
    "method_transform = MethodTransform(\n",
    "    adata=adata,\n",
    "    gpu=False\n",
    ")\n",
    "\n",
    "# Process the data and return the processed anndata object\n",
    "method_transform.process_data(\n",
    "    method=\"scgen\",\n",
    "    celltype_key=\"cell_type\",\n",
    "    perturbation_key=\"perturbation\",\n",
    ")\n",
    "processed_data=method_transform.return_anndata()"
   ]
  },
  {
   "cell_type": "code",
   "execution_count": 14,
   "metadata": {},
   "outputs": [
    {
     "data": {
      "text/plain": [
       "AnnData object with n_obs × n_vars = 3934 × 42\n",
       "    obs: 'exp_groups', 'perturbation', 'cell_type', 'batch_key', 'labels_key'\n",
       "    uns: 'iroot', 'exp_groups_colors'"
      ]
     },
     "execution_count": 14,
     "metadata": {},
     "output_type": "execute_result"
    }
   ],
   "source": [
    "processed_data"
   ]
  },
  {
   "cell_type": "code",
   "execution_count": 26,
   "metadata": {},
   "outputs": [],
   "source": [
    "# Create a dummy 'dataset' variable and split the anndata based on this covariate \n",
    "dataset = np.random.choice(['norman', 'replogle'], processed_data.shape[0])\n",
    "adata_train = processed_data[dataset == 'norman']\n",
    "adata_test = processed_data[dataset == 'replogle']"
   ]
  },
  {
   "cell_type": "code",
   "execution_count": 28,
   "metadata": {},
   "outputs": [
    {
     "name": "stdout",
     "output_type": "stream",
     "text": [
      "{'method': 'scgen', 'test_size': 1, 'split_test': False, 'val_size': 0.3, 'scenario_name': 'Scenario 1 scGen', 'train_dataset': 'Test1', 'test_dataset': 'Test2', 'perturbation_key': 'perturbation', 'cell_type_key': 'cell_type', 'min_cells': 25, 'seed': 0}\n"
     ]
    }
   ],
   "source": [
    "# Read in scenario config\n",
    "import yaml\n",
    "\n",
    "scenario_config_path = \"../configs/scenario_1_scgen.yaml\"\n",
    "try:\n",
    "    with open(scenario_config_path, 'r') as file:\n",
    "        scenario_config = yaml.safe_load(file)\n",
    "    print(scenario_config)\n",
    "except FileNotFoundError:\n",
    "    print(f\"Error: The file '{scenario_config_path}' was not found.\")\n",
    "except yaml.YAMLError as exc:\n",
    "    print(f\"Error parsing YAML file: {exc}\")"
   ]
  },
  {
   "cell_type": "code",
   "execution_count": 29,
   "metadata": {},
   "outputs": [
    {
     "data": {
      "text/plain": [
       "{'method': 'scgen',\n",
       " 'test_size': 1,\n",
       " 'split_test': False,\n",
       " 'val_size': 0.3,\n",
       " 'scenario_name': 'Scenario 1 scGen',\n",
       " 'train_dataset': 'Test1',\n",
       " 'test_dataset': 'Test2',\n",
       " 'perturbation_key': 'perturbation',\n",
       " 'cell_type_key': 'cell_type',\n",
       " 'min_cells': 25,\n",
       " 'seed': 0}"
      ]
     },
     "execution_count": 29,
     "metadata": {},
     "output_type": "execute_result"
    }
   ],
   "source": [
    "scenario_config"
   ]
  },
  {
   "cell_type": "code",
   "execution_count": 30,
   "metadata": {},
   "outputs": [],
   "source": [
    "# Initialize scenario class\n",
    "scenario = Scenarios(\n",
    "    scenario=Scenario1,\n",
    "    adata_train=adata_train,\n",
    "    adata_test=adata_test,\n",
    "    scenario_config=scenario_config\n",
    ")"
   ]
  },
  {
   "cell_type": "code",
   "execution_count": 31,
   "metadata": {},
   "outputs": [
    {
     "data": {
      "text/plain": [
       "<splits.Scenarios at 0x7f400079a8c0>"
      ]
     },
     "execution_count": 31,
     "metadata": {},
     "output_type": "execute_result"
    }
   ],
   "source": [
    "scenario"
   ]
  },
  {
   "cell_type": "code",
   "execution_count": 61,
   "metadata": {},
   "outputs": [
    {
     "name": "stderr",
     "output_type": "stream",
     "text": [
      "/home/hmaan/scEvalsJam/scenarios/splits/examples/../splits.py:72: ImplicitModificationWarning: Trying to modify attribute `.obs` of view, initializing view as actual.\n",
      "  self.adata_train.obs['split'] = 'train'\n",
      "/home/hmaan/scEvalsJam/scenarios/splits/examples/../splits.py:73: ImplicitModificationWarning: Trying to modify attribute `.obs` of view, initializing view as actual.\n",
      "  self.adata_test.obs['split'] = 'test'\n",
      "/home/hmaan/scEvalsJam/scenarios/splits/examples/../splits.py:96: ImplicitModificationWarning: Trying to modify attribute `.obs` of view, initializing view as actual.\n",
      "  adata_train.obs['split'] = train_split_key\n",
      "/home/hmaan/scEvalsJam/scenarios/splits/examples/../splits.py:97: ImplicitModificationWarning: Trying to modify attribute `.obs` of view, initializing view as actual.\n",
      "  adata_test.obs['split'] = test_split_key\n"
     ]
    }
   ],
   "source": [
    "# Perform train, test, val split using the splitter function in the Scenario class\n",
    "# which is wrapped in the 'return_data' method of Scenarios \n",
    "\n",
    "# This will return three anndata objects - train val and test\n",
    "\n",
    "train, val, test = scenario.return_data()"
   ]
  },
  {
   "cell_type": "code",
   "execution_count": 62,
   "metadata": {},
   "outputs": [
    {
     "data": {
      "text/plain": [
       "AnnData object with n_obs × n_vars = 1381 × 42\n",
       "    obs: 'exp_groups', 'perturbation', 'cell_type', 'batch_key', 'labels_key', 'split', 'dataset'\n",
       "    uns: 'iroot', 'exp_groups_colors'"
      ]
     },
     "execution_count": 62,
     "metadata": {},
     "output_type": "execute_result"
    }
   ],
   "source": [
    "train"
   ]
  },
  {
   "cell_type": "code",
   "execution_count": 63,
   "metadata": {},
   "outputs": [
    {
     "data": {
      "text/plain": [
       "perturbation\n",
       "B    475\n",
       "C    466\n",
       "A    440\n",
       "Name: count, dtype: int64"
      ]
     },
     "execution_count": 63,
     "metadata": {},
     "output_type": "execute_result"
    }
   ],
   "source": [
    "train.obs[\"perturbation\"].value_counts()"
   ]
  },
  {
   "cell_type": "code",
   "execution_count": 64,
   "metadata": {},
   "outputs": [
    {
     "data": {
      "text/plain": [
       "split\n",
       "train    1381\n",
       "Name: count, dtype: int64"
      ]
     },
     "execution_count": 64,
     "metadata": {},
     "output_type": "execute_result"
    }
   ],
   "source": [
    "train.obs[\"split\"].value_counts()"
   ]
  },
  {
   "attachments": {},
   "cell_type": "markdown",
   "metadata": {},
   "source": [
    "train.obs"
   ]
  },
  {
   "cell_type": "code",
   "execution_count": 65,
   "metadata": {},
   "outputs": [
    {
     "data": {
      "text/plain": [
       "perturbation\n",
       "B    204\n",
       "C    200\n",
       "A    189\n",
       "Name: count, dtype: int64"
      ]
     },
     "execution_count": 65,
     "metadata": {},
     "output_type": "execute_result"
    }
   ],
   "source": [
    "val.obs[\"perturbation\"].value_counts()"
   ]
  },
  {
   "cell_type": "code",
   "execution_count": 66,
   "metadata": {},
   "outputs": [
    {
     "data": {
      "text/plain": [
       "split\n",
       "validation    593\n",
       "Name: count, dtype: int64"
      ]
     },
     "execution_count": 66,
     "metadata": {},
     "output_type": "execute_result"
    }
   ],
   "source": [
    "val.obs[\"split\"].value_counts()"
   ]
  },
  {
   "cell_type": "code",
   "execution_count": 67,
   "metadata": {},
   "outputs": [
    {
     "data": {
      "text/plain": [
       "perturbation\n",
       "C    692\n",
       "A    663\n",
       "B    605\n",
       "Name: count, dtype: int64"
      ]
     },
     "execution_count": 67,
     "metadata": {},
     "output_type": "execute_result"
    }
   ],
   "source": [
    "test.obs[\"perturbation\"].value_counts()"
   ]
  },
  {
   "cell_type": "code",
   "execution_count": 68,
   "metadata": {},
   "outputs": [
    {
     "data": {
      "text/plain": [
       "split\n",
       "test    1960\n",
       "Name: count, dtype: int64"
      ]
     },
     "execution_count": 68,
     "metadata": {},
     "output_type": "execute_result"
    }
   ],
   "source": [
    "test.obs[\"split\"].value_counts()"
   ]
  }
 ],
 "metadata": {
  "kernelspec": {
   "display_name": "vae_vault",
   "language": "python",
   "name": "vae_vault"
  },
  "language_info": {
   "codemirror_mode": {
    "name": "ipython",
    "version": 3
   },
   "file_extension": ".py",
   "mimetype": "text/x-python",
   "name": "python",
   "nbconvert_exporter": "python",
   "pygments_lexer": "ipython3",
   "version": "3.10.6"
  },
  "orig_nbformat": 4
 },
 "nbformat": 4,
 "nbformat_minor": 2
}
