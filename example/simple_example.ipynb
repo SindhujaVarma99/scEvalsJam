{
 "cells": [
  {
   "cell_type": "markdown",
   "metadata": {},
   "source": [
    "Import"
   ]
  },
  {
   "cell_type": "code",
   "execution_count": null,
   "metadata": {},
   "outputs": [],
   "source": [
    "from ..dataset import PerturbationDataset\n",
    "from ..models.scgen import scGenModel"
   ]
  },
  {
   "cell_type": "markdown",
   "metadata": {},
   "source": [
    "Data processing"
   ]
  },
  {
   "cell_type": "code",
   "execution_count": null,
   "metadata": {},
   "outputs": [],
   "source": []
  },
  {
   "cell_type": "markdown",
   "metadata": {},
   "source": [
    "Modelling"
   ]
  },
  {
   "cell_type": "code",
   "execution_count": null,
   "metadata": {},
   "outputs": [],
   "source": [
    "# standardize train and test data to the method specific format\n",
    "train_data = PerturbationDataset(train_adata)\n",
    "test_data = PerturbationDataset(test_adata)\n",
    "\n",
    "# define the models for benchmarking\n",
    "scgen_model = scGenModel()\n",
    "scgen_model.train(train_data) # default hyper-parameters\n",
    "scgen_model.save(\"path/to/save/model\")\n"
   ]
  },
  {
   "cell_type": "markdown",
   "metadata": {},
   "source": [
    "Prediction"
   ]
  },
  {
   "cell_type": "markdown",
   "metadata": {},
   "source": [
    "# load and predict the test data\n",
    "scgen_model.load(\"path/to/save/model\")\n",
    "predicted_data = scgen_model.predict(test_data)"
   ]
  },
  {
   "cell_type": "markdown",
   "metadata": {},
   "source": [
    "Evaluation"
   ]
  },
  {
   "cell_type": "markdown",
   "metadata": {},
   "source": []
  }
 ],
 "metadata": {
  "language_info": {
   "name": "python"
  }
 },
 "nbformat": 4,
 "nbformat_minor": 2
}
